{
 "cells": [
  {
   "cell_type": "markdown",
   "metadata": {},
   "source": [
    "# Topic clustering using LDA\n",
    "\n",
    "### 1. Clean data and return tokens."
   ]
  },
  {
   "cell_type": "code",
   "execution_count": 1,
   "metadata": {},
   "outputs": [],
   "source": [
    "import spacy\n",
    "spacy.load('en')\n",
    "from spacy.lang.en import English\n",
    "parser = English()\n",
    "\n",
    "def tokenize(text):\n",
    "    lda_tokens = []\n",
    "    tokens = parser(text)\n",
    "    for token in tokens:\n",
    "        if token.orth_.isspace():\n",
    "            continue\n",
    "        elif token.like_url:\n",
    "            lda_tokens.append('URL')\n",
    "        elif token.orth_.startswith('@'):\n",
    "            lda_tokens.append('SCREEN_NAME')\n",
    "        else:\n",
    "            lda_tokens.append(token.lower_)\n",
    "    return lda_tokens\n"
   ]
  },
  {
   "cell_type": "markdown",
   "metadata": {},
   "source": [
    "###  Find the meanings of words, synonyms,antonyms using WordNet"
   ]
  },
  {
   "cell_type": "code",
   "execution_count": 2,
   "metadata": {},
   "outputs": [
    {
     "name": "stdout",
     "output_type": "stream",
     "text": [
      "[nltk_data] Downloading package wordnet to\n",
      "[nltk_data]     /home/quicksilver/nltk_data...\n",
      "[nltk_data]   Package wordnet is already up-to-date!\n"
     ]
    },
    {
     "data": {
      "text/plain": [
       "True"
      ]
     },
     "execution_count": 2,
     "metadata": {},
     "output_type": "execute_result"
    }
   ],
   "source": [
    "import nltk\n",
    "nltk.download('wordnet')\n",
    "\n"
   ]
  },
  {
   "cell_type": "code",
   "execution_count": 3,
   "metadata": {},
   "outputs": [],
   "source": [
    "from nltk.corpus import wordnet as wn\n",
    "def get_lemma(word):\n",
    "    lemma = wn.morphy(word)\n",
    "    if lemma is None:\n",
    "        return word\n",
    "    else:\n",
    "        return lemma\n",
    "    \n",
    "from nltk.stem.wordnet import WordNetLemmatizer\n",
    "def get_lemma2(word):\n",
    "    return WordNetLemmatizer().lemmatize(word)\n"
   ]
  },
  {
   "cell_type": "code",
   "execution_count": 4,
   "metadata": {},
   "outputs": [
    {
     "name": "stdout",
     "output_type": "stream",
     "text": [
      "[nltk_data] Downloading package stopwords to\n",
      "[nltk_data]     /home/quicksilver/nltk_data...\n",
      "[nltk_data]   Package stopwords is already up-to-date!\n"
     ]
    }
   ],
   "source": [
    "nltk.download('stopwords')\n",
    "en_stop = set(nltk.corpus.stopwords.words('english'))"
   ]
  },
  {
   "cell_type": "markdown",
   "metadata": {},
   "source": [
    "### Prepare text for topic clustering"
   ]
  },
  {
   "cell_type": "code",
   "execution_count": 5,
   "metadata": {},
   "outputs": [],
   "source": [
    "def prepare_text_for_lda(text):\n",
    "    tokens = tokenize(text)\n",
    "    tokens = [token for token in tokens if len(token) > 4]\n",
    "    tokens = [token for token in tokens if token not in en_stop]\n",
    "    tokens = [get_lemma(token) for token in tokens]\n",
    "    return tokens\n"
   ]
  },
  {
   "cell_type": "markdown",
   "metadata": {},
   "source": [
    "For starters, we have a transcription that contains a discussion about product design."
   ]
  },
  {
   "cell_type": "code",
   "execution_count": 6,
   "metadata": {},
   "outputs": [
    {
     "name": "stdout",
     "output_type": "stream",
     "text": [
      "['00:00:00', 'richard', 'fulcher', 'richard', 'designer', 'google', 'senior', 'designer', 'right', 'working', 'years', 'thank', 'joining', 'pleasure', 'today', 'describe', 'experience', 'design', 'umbrella', 'several', 'relate', 'discipline', 'focus', 'design', 'experience']\n",
      "['00:00:30', 'individual', 'person', 'achieve', 'different', 'type', 'experience', 'commonly', 'think', 'software', 'design', 'things', 'environment', 'design', 'maybe', 'design', 'physical', 'product', 'things', 'event', 'coordination', 'anything', 'experience', 'construct', 'going', 'first', 'going', 'concept', 'study']\n",
      "['00:01:00', 'contact', 'environment', 'operate', 'order', 'design', 'tool', 'achieve', 'task', 'complete', 'goal', 'user', 'contact', 'task', 'goal', 'goal', 'anyone', 'going', 'product', 'service', 'designing', 'really', 'important', 'remember', 'really']\n",
      "['00:01:30', 'range', 'condemn', 'designing', 'think', 'designing', 'super', 'idealize', 'reality', 'going', 'building', 'people', 'different', 'level', 'experience', 'different', 'context', 'different', 'background', 'affect', 'proceed', 'thing', 'build', 'something', 'call', 'research']\n",
      "['00:02:00', 'think', 'going', 'associate', 'taking', 'project', 'working', 'intestine', 'perform', 'series', 'task', 'would', 'things', 'problem', 'research', 'really', 'cover', 'whole', 'development', 'product', 'first', 'screen', 'engage', 'research', 'potential', 'user']\n",
      "['00:02:30', 'home', 'workplace', 'start', 'understand', 'context', 'important', 'behave', 'goal', 'finish', 'ship', 'things', 'analyze', 'usage', 'pattern', 'people', 'product', 'going', 'towards', 'things', 'area', 'spending', 'anticipate']\n"
     ]
    }
   ],
   "source": [
    "import random\n",
    "text_data = []\n",
    "with open('UIUX.txt') as f:\n",
    "    for line in f:\n",
    "        tokens = prepare_text_for_lda(line)\n",
    "        print(tokens)\n",
    "        text_data.append(tokens)"
   ]
  },
  {
   "cell_type": "markdown",
   "metadata": {},
   "source": [
    "* First, we are creating a dictionary from the data, then converting to a bag-of-words corpus and saving the dictionary and corpus for future use.\n",
    "* We are using Gensim for this particular task."
   ]
  },
  {
   "cell_type": "code",
   "execution_count": 7,
   "metadata": {},
   "outputs": [],
   "source": [
    "from gensim import corpora\n",
    "dictionary = corpora.Dictionary(text_data)\n"
   ]
  },
  {
   "cell_type": "code",
   "execution_count": 8,
   "metadata": {},
   "outputs": [],
   "source": [
    "corpus = [dictionary.doc2bow(text) for text in text_data]"
   ]
  },
  {
   "cell_type": "markdown",
   "metadata": {},
   "source": [
    "### At present, we are limiting number of topics per mixture to 5"
   ]
  },
  {
   "cell_type": "code",
   "execution_count": 9,
   "metadata": {},
   "outputs": [],
   "source": [
    "import gensim\n",
    "NUM_TOPICS = 5\n",
    "ldamodel = gensim.models.ldamodel.LdaModel(corpus, num_topics = NUM_TOPICS, id2word=dictionary, passes=30)\n",
    "ldamodel.save('model5.gensim')"
   ]
  },
  {
   "cell_type": "code",
   "execution_count": 10,
   "metadata": {},
   "outputs": [
    {
     "name": "stdout",
     "output_type": "stream",
     "text": [
      "(0, '0.069*\"design\" + 0.056*\"experience\" + 0.029*\"going\" + 0.029*\"things\"')\n",
      "(1, '0.068*\"different\" + 0.047*\"designing\" + 0.025*\"people\" + 0.025*\"context\"')\n",
      "(2, '0.047*\"research\" + 0.025*\"working\" + 0.025*\"think\" + 0.025*\"user\"')\n",
      "(3, '0.061*\"goal\" + 0.032*\"product\" + 0.032*\"going\" + 0.032*\"task\"')\n",
      "(4, '0.009*\"going\" + 0.009*\"product\" + 0.009*\"things\" + 0.009*\"think\"')\n"
     ]
    }
   ],
   "source": [
    "\n",
    "\n",
    "topics = ldamodel.print_topics(num_words=4)\n",
    "for topic in topics:\n",
    "    print(topic)\n",
    "\n"
   ]
  },
  {
   "cell_type": "markdown",
   "metadata": {},
   "source": [
    "* We have been able to generate top 5 topic mixtures from our collection of transcripts.\n",
    "* We can safely say that all these topics refer to aspects of product design in some way or the other.\n"
   ]
  },
  {
   "cell_type": "markdown",
   "metadata": {},
   "source": [
    "### Running the model after combining all transcripts"
   ]
  },
  {
   "cell_type": "code",
   "execution_count": 11,
   "metadata": {},
   "outputs": [],
   "source": [
    "with open('bigtranscript.txt') as f:\n",
    "    for line in f:\n",
    "        tokens = prepare_text_for_lda(line)\n",
    "        text_data.append(tokens)"
   ]
  },
  {
   "cell_type": "code",
   "execution_count": 12,
   "metadata": {},
   "outputs": [],
   "source": [
    "dictionary = corpora.Dictionary(text_data)"
   ]
  },
  {
   "cell_type": "code",
   "execution_count": 13,
   "metadata": {},
   "outputs": [],
   "source": [
    "corpus = [dictionary.doc2bow(text) for text in text_data]"
   ]
  },
  {
   "cell_type": "code",
   "execution_count": 14,
   "metadata": {},
   "outputs": [],
   "source": [
    "NUM_TOPICS = 5\n",
    "ldamodel = gensim.models.ldamodel.LdaModel(corpus, num_topics = NUM_TOPICS, id2word=dictionary, passes=30)\n",
    "ldamodel.save('model0.gensim')"
   ]
  },
  {
   "cell_type": "code",
   "execution_count": 15,
   "metadata": {},
   "outputs": [
    {
     "name": "stdout",
     "output_type": "stream",
     "text": [
      "(0, '0.017*\"think\" + 0.011*\"people\" + 0.011*\"things\" + 0.010*\"would\"')\n",
      "(1, '0.023*\"think\" + 0.021*\"things\" + 0.016*\"really\" + 0.013*\"going\"')\n",
      "(2, '0.027*\"really\" + 0.020*\"image\" + 0.015*\"people\" + 0.012*\"great\"')\n",
      "(3, '0.023*\"design\" + 0.015*\"going\" + 0.014*\"think\" + 0.014*\"people\"')\n",
      "(4, '0.022*\"think\" + 0.018*\"people\" + 0.015*\"really\" + 0.012*\"designer\"')\n"
     ]
    }
   ],
   "source": [
    "topics = ldamodel.print_topics(num_words=4)\n",
    "for topic in topics:\n",
    "    print(topic)"
   ]
  },
  {
   "cell_type": "markdown",
   "metadata": {},
   "source": [
    "#### This is how the summary of all topics present inside the transcripts looks like. Enough to give us a general idea of what these interviews tend to discuss about."
   ]
  },
  {
   "cell_type": "markdown",
   "metadata": {},
   "source": [
    "### Further Work\n",
    "\n",
    "* Try lda2vec and compare results with lda.\n",
    "* Assign labels to topics generated by the unsupervised learning model."
   ]
  }
 ],
 "metadata": {
  "kernelspec": {
   "display_name": "Python 3",
   "language": "python",
   "name": "python3"
  },
  "language_info": {
   "codemirror_mode": {
    "name": "ipython",
    "version": 3
   },
   "file_extension": ".py",
   "mimetype": "text/x-python",
   "name": "python",
   "nbconvert_exporter": "python",
   "pygments_lexer": "ipython3",
   "version": "3.5.2"
  }
 },
 "nbformat": 4,
 "nbformat_minor": 2
}
