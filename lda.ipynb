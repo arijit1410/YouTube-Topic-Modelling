{
 "cells": [
  {
   "cell_type": "markdown",
   "metadata": {},
   "source": [
    "# Topic clustering using LDA\n",
    "\n",
    "### 1. Clean data and return tokens."
   ]
  },
  {
   "cell_type": "code",
   "execution_count": 1,
   "metadata": {},
   "outputs": [],
   "source": [
    "import spacy\n",
    "spacy.load('en')\n",
    "from spacy.lang.en import English\n",
    "parser = English()\n",
    "\n",
    "def tokenize(text):\n",
    "    lda_tokens = []\n",
    "    tokens = parser(text)\n",
    "    for token in tokens:\n",
    "        if token.orth_.isspace():\n",
    "            continue\n",
    "        elif token.like_url:\n",
    "            lda_tokens.append('URL')\n",
    "        elif token.orth_.startswith('@'):\n",
    "            lda_tokens.append('SCREEN_NAME')\n",
    "        else:\n",
    "            lda_tokens.append(token.lower_)\n",
    "    return lda_tokens\n"
   ]
  },
  {
   "cell_type": "markdown",
   "metadata": {},
   "source": [
    "###  Find the meanings of words, synonyms,antonyms using WordNet"
   ]
  },
  {
   "cell_type": "code",
   "execution_count": 2,
   "metadata": {},
   "outputs": [
    {
     "name": "stdout",
     "output_type": "stream",
     "text": [
      "[nltk_data] Downloading package wordnet to\n",
      "[nltk_data]     /home/quicksilver/nltk_data...\n",
      "[nltk_data]   Package wordnet is already up-to-date!\n"
     ]
    },
    {
     "data": {
      "text/plain": [
       "True"
      ]
     },
     "execution_count": 2,
     "metadata": {},
     "output_type": "execute_result"
    }
   ],
   "source": [
    "import nltk\n",
    "nltk.download('wordnet')\n",
    "\n"
   ]
  },
  {
   "cell_type": "code",
   "execution_count": 3,
   "metadata": {},
   "outputs": [],
   "source": [
    "from nltk.corpus import wordnet as wn\n",
    "def get_lemma(word):\n",
    "    lemma = wn.morphy(word)\n",
    "    if lemma is None:\n",
    "        return word\n",
    "    else:\n",
    "        return lemma\n",
    "    \n",
    "from nltk.stem.wordnet import WordNetLemmatizer\n",
    "def get_lemma2(word):\n",
    "    return WordNetLemmatizer().lemmatize(word)\n"
   ]
  },
  {
   "cell_type": "code",
   "execution_count": 4,
   "metadata": {},
   "outputs": [
    {
     "name": "stdout",
     "output_type": "stream",
     "text": [
      "[nltk_data] Downloading package stopwords to\n",
      "[nltk_data]     /home/quicksilver/nltk_data...\n",
      "[nltk_data]   Package stopwords is already up-to-date!\n"
     ]
    }
   ],
   "source": [
    "nltk.download('stopwords')\n",
    "en_stop = set(nltk.corpus.stopwords.words('english'))"
   ]
  },
  {
   "cell_type": "markdown",
   "metadata": {},
   "source": [
    "### Prepare text for topic clustering"
   ]
  },
  {
   "cell_type": "code",
   "execution_count": 5,
   "metadata": {},
   "outputs": [],
   "source": [
    "def prepare_text_for_lda(text):\n",
    "    tokens = tokenize(text)\n",
    "    tokens = [token for token in tokens if len(token) > 4]\n",
    "    tokens = [token for token in tokens if token not in en_stop]\n",
    "    tokens = [get_lemma(token) for token in tokens]\n",
    "    return tokens\n"
   ]
  },
  {
   "cell_type": "code",
   "execution_count": 45,
   "metadata": {},
   "outputs": [
    {
     "name": "stdout",
     "output_type": "stream",
     "text": [
      "['00:00:00', 'welcome', 'resolution', 'bobby', 'ghosh', 'office', 'jar', 'around', 'speaking', 'masters', 'design', 'industry', 'still', 'still', 'life', 'thank', 'joining', 'speaking', 'today', 'speaking', 'scott', 'belsky', 'scott', 'founder', 'behance', 'going', 'maximize', 'creative', 'output', 'constraint', 'boost', 'creativity', 'pattern', 'design', 'company']\n",
      "['00:00:30', 'watch', 'episode', 'around', 'right', 'partner', 'message', 'going', 'thanks', 'squarespace', 'support', 'domain', 'website', 'online', 'store', 'squarespace', 'visit', 'enter', 'resolution', 'first', 'purchase', 'scott', 'thanks', 'joining', 'thanks']\n",
      "['00:01:00', 'thing', 'design', 'clear', 'state', 'people', 'wednesday', 'think', 'things', 'become', 'clear', 'first', 'design', 'little', 'things', 'difference', 'think', 'little', 'things', 'override', 'corporation', 'sometimes', 'prioritize', 'small', 'team', 'little', 'things', 'whether', 'aesthetic']\n",
      "['00:01:30', 'experience', 'product', 'whether', 'decision', 'professionally', 'photograph', 'apartment', 'airbnb', 'whether', 'little', 'decision', 'making', 'difference', 'thing', 'entrepreneur', 'prioritize', 'think', 'thing', 'company', 'later', 'forget', 'science', 'scaling']\n",
      "['00:02:00', 'business', 'really', 'business', 'practice', 'scaling', 'business', 'design', 'scale', 'things', 'interaction', 'people', 'making', 'experience', 'actually', 'design', 'consistent', 'start', 'finish', 'reading', 'thing']\n",
      "['00:02:30', 'pretend', 'forget', 'thing', 'would', 'though', 'ask', 'thing', 'design', 'something', 'customer', 'facing', 'people', 'build', 'tool', 'deeply', 'influence', 'tool', 'build', 'tool', 'design', 'internal', 'system', 'tool', 'business', 'making', 'accessible', 'using', 'principle', 'design', 'marketing', 'people', 'engage', 'business', 'strategy', 'critical', 'people']\n",
      "['00:03:00', 'principle', 'design', 'think', 'helping', 'people', 'visit', 'progress', 'happening', 'rather', 'cutting', 'plane', 'already', 'happen', 'progress', 'progress', 'think', 'merchandising', 'actual', 'actionable', 'stuff', 'need', 'merchandise', 'people', 'merchandise', 'design', 'great']\n",
      "['00:03:30', 'bottle', 'translate', 'graphics', 'things', 'spend', 'customer', 'marketing', 'campaign', 'maybe', 'boards', 'come', 'internal', 'matter', 'matter', 'matter', 'people', 'align', 'help', 'entrepreneur', 'would', 'always', 'translate', 'using', 'illustrator', 'business', 'something', 'really', 'simple', 'graphically']\n",
      "['00:04:00', 'trade', 'help', 'understand', 'mission', 'centric', 'history', 'years', 'behance', 'famous', 'build', 'platform', 'creative', 'finish', 'world', 'making', 'idea', 'happen', 'inspire', 'start', 'startup', 'respond', 'first', 'project', 'journey']\n",
      "['00:04:30', 'maximize', 'creative', 'output', 'maximize', 'potential', 'hard', 'project', 'plateau', 'couple', 'things', 'first', 'business', 'always', 'mission', 'centric', 'imply', 'medium', 'agnostic', 'sense', 'something', 'really', 'passionate']\n",
      "['00:05:00', 'problem', 'solving', 'pair', 'empathy', 'people', 'actually', 'suffering', 'problem', 'would', 'hansa', 'disorganization', 'creative', 'world', 'traditional', 'solution', 'thought', 'medium', 'agnostic', 'meaning', 'network', 'technology', 'essentially', 'conference', 'ninth', 'season', 'conference', 'series', 'paper', 'product', 'organization', 'seem', 'crazy', 'investor', 'perspective', 'company']\n",
      "['00:05:30', 'place', 'every', 'instance', 'mission', 'things', 'organize', 'creative', 'people', 'looking', 'think', 'really', 'could', 'kill', 'times', 'short', 'spreading', 'introduce', 'split', 'energy', 'different', 'place', 'somehow', 'pound', 'holistic', 'friend', 'really', 'mission']\n",
      "['00:06:00', 'rather', 'particular', 'medium', 'competitor', 'medium', 'centric', 'technology', 'company', 'prince', 'company', 'compete', 'running', 'circle', 'around', 'brand', 'experience', '360-degree', 'experience', 'deliver', 'customer', 'think', 'thread', 'really', 'commit', 'solving', 'problem', 'confine', 'particular', 'medium', 'product', 'refer', 'currently', 'calling', 'attorney', 'really', 'effort']\n",
      "['00:06:30', 'better', 'understand', 'chronicle', 'great', 'artist', 'entrepreneur', 'leaders', 'company', 'endure', 'middle', 'journey', 'messy', 'middle', 'want', 'write', 'depress', 'anonymity', 'doubt', 'ambiguity', 'fascinate', 'journey', 'others', 'succeed', 'middle', 'learn']\n",
      "['00:07:00', 'greater', 'potential', 'actual', 'output', 'interest', 'touching', 'space', 'clean', 'actually', 'exactly', 'things', 'people', 'actually', 'stage', 'believe', 'incredible', 'vision', 'actually', 'achieve', 'enough', 'motivate', 'think']\n",
      "['00:07:30', 'actually', 'imagine', 'years', 'going', 'going', 'going', 'start', 'times', 'truth', 'wire', 'short', 'reward', 'remember', 'quote', 'share', 'wilson', 'investor', 'behance', 'first', 'conference', 'greatest', 'addiction', 'heroin', 'weekly', 'salary', 'unplug']\n",
      "['00:08:00', 'desire', 'short', 'reward', 'parent', 'gratification', 'check', 'grade', 'school', 'agree', 'course', 'weekly', 'salary', 'potentially', 'bonus', 'suddenly', 'unplug', 'choose', 'pursue', 'independent', 'career', 'freelancer', 'choose', 'entrepreneur', 'start', 'anything', 'take', 'years', 'order', 'bring', 'fruition', 'without', 'short', 'award']\n",
      "['00:08:30', 'question', 'survive', 'trough', 'reward', 'system', 'engage', 'kind', 'things', 'design', 'putting', 'things', 'around', 'celebrate', 'milestone', 'basically', 'things', 'story', 'behance', 'every', 'type', 'hansen', 'google', 'always', 'chance', 'hands', 'always', 'mistake']\n",
      "['00:09:00', 'things', 'would', 'early', 'eventually', 'enough', 'band', 'user', 'profile', 'project', 'enough', 'enough', 'hustle', 'network', 'around', 'longer', 'mistake', 'google', 'think', 'inevitably', 'later', 'suddenly', 'behance', 'think', 'beyonce', 'become', 'popular', 'thought', 'mistake', 'difference']\n",
      "['00:09:30', 'write', 'quite', 'constraint', 'creative', 'process', 'really', 'start', 'answer', 'question', 'would', 'designer', 'interview', 'ready', 'making', 'idea', 'happen', 'often', 'times', 'productive', 'prolific', 'designer', 'would', 'story', 'around', 'nightmare', 'break', 'brief', 'things', 'horribly', 'wrong', 'often', 'story', 'would', 'start']\n",
      "['00:10:00', 'brief', 'particular', 'client', 'client', 'listen', 'picture', 'think', 'budget', 'think', 'timeline', 'picture', 'routinely', 'story', 'insufferable', 'process', 'figure', 'illustrate', 'importance', 'importance', 'constraint', 'earth', 'sense', 'resourcefulness', 'important']\n",
      "['00:10:30', 'resource', 'resourcefulness', 'making', 'front', 'entering', 'things', 'around', 'constraint', 'whether', 'timeline', 'someone', 'share', 'think', 'creatives', 'operate', 'productively', 'vacuum', 'empty', 'space', 'suppose', 'infinite', 'resource', 'noise', 'noise', 'actually', 'critical', 'process', 'mistake', 'something']\n",
      "['00:11:00', 'think', 'become', 'friction', 'fill', 'product', 'services', 'anticipate', 'every', 'friction', 'daily', 'going', 'creativity', 'actually', 'spawn', 'getting', 'sitting', 'traffic', 'dealing', 'deadline', 'limited', 'resource', 'interest', 'question']\n",
      "['00:11:30', 'everything', 'think', 'manufacturer', 'constraint', 'designer', 'would', 'really', 'leader', 'role', 'leader', 'constantly', 'reiterate', 'merchandize', 'constraint', 'logical', 'obvious', 'constraint', 'right', 'merchandising', 'everyone', 'always']\n",
      "['00:12:00', 'maneuver', 'around', 'always', 'always', 'strategy', 'something', 'working', 'empower', 'tangible', 'anchor', 'abstract', 'words', 'would', 'deadline', 'constraint', 'constraint', 'session', 'client', 'behalf', 'consider', 'constraint', 'limitation', 'around']\n",
      "['00:12:30', 'content', 'direction', 'seem', 'constrain', 'obviously', 'strengthen', 'making', 'tapping', 'resourceful', 'finding', 'around', 'founder', 'leader', 'define', 'constraint', 'important', 'putting', '10,000', 'always', 'forget', 'importance', 'internal', 'merchandising']\n",
      "['00:13:00', 'generation', 'something', 'hear', 'write', 'designer', 'believe', 'idea', 'culprit', 'idea', 'light', 'creative', 'people', 'addict', 'energy', 'excitement', 'frankly', 'accompany', 'allow', 'escape']\n",
      "['00:13:30', 'doldrums', 'project', 'management', 'allow', 'escape', 'life', 'doubt', 'daily', 'daily', 'grind', 'idea', 'excite', 'first', 'thing', 'doldrums', 'project', 'management', 'period', 'suffering', 'chat', 'another', 'right', 'world']\n",
      "['00:14:00', 'think', 'important', 'optimistic', 'future', 'always', 'pessimistic', 'task', 'never', 'never', 'truly', 'satisfy', 'progress', 'making', 'always', 'question', 'bringing', 'pragmatic', 'realization', 'making', 'enough', 'progress', 'hustle', 'potential', 'glory']\n",
      "['00:14:30', 'texas', 'things', 'think', 'creative', 'prayer', 'constantly', 'remind', 'think', 'strange', 'productive', 'thing', 'little', 'process', 'think', 'trick', 'lofty', 'dear', 'cenex', 'people', 'around', 'shoot', 'friend', 'friend', 'think', 'inclination']\n",
      "['00:15:00', 'amaze', 'speak', 'kindred', 'spirit', 'really', 'really', 'skeptic', 'cenex', 'process', 'important', 'question', 'tierpoint', 'creatives', 'engage', 'people', 'team', 'typical', 'person', 'creative', 'creatives', 'become', 'intoxicate', 'generation', 'nothing']\n",
      "['00:15:30', 'server', 'monitor', 'driver', 'constantly', 'remind', 'budget', 'timeline', 'constraint', 'opposite', 'dreamer', 'debbie', 'downer', 'world', 'people', 'constantly', 'saying', 'second', 'dreamer', 'night', 'super', 'excite', 'introduce', 'contrary', 'door', 'going', 'night', 'excite']\n",
      "['00:16:00', 'nothing', 'pipeline', 'things', 'interrupt', 'schedule', 'track', 'healthy', 'productive', 'creative', 'extraordinary', 'strong', 'immune', 'system', 'power', 'door', 'dreamer', 'think', 'human', 'healthy', 'immune', 'system', 'kill', 'everything', 'right', 'organ', 'transplant', 'suppress', 'immune', 'system', 'empower', 'dreamer']\n",
      "['00:16:30', 'call', 'introduce', 'organ', 'something', 'actually', 'change', 'great', 'leader', 'productive', 'creative', 'times', 'course', 'everybody', 'making', 'happening', 'interview', 'team', 'would', 'great', 'leader', 'constantly', 'force', 'hire', 'dewar', 'dreamer', 'empower', 'door', 'making', 'chemistry', 'allow', 'door', 'dreamer', 'call', 'something', 'problem', 'solve', 'brief', 'consider']\n",
      "['00:17:00', 'empower', 'creatives', 'dreamer', 'wells', 'fargo', 'investment', 'company', 'pinterest', 'warby', 'parker', 'need', 'really', 'strong', 'brand', 'people', 'leaders', 'write', 'investment', 'pattern', 'among', 'company', 'approach', 'deploy', 'design', 'company', 'either', 'found', 'designer', 'leaders']\n",
      "['00:17:30', 'really', 'value', 'design', 'decision', 'talent', 'start', 'company', 'outsource', 'design', 'point', 'actually', 'interest', 'company', 'least', 'beginning', 'outsource', 'design', 'something', 'basically', 'saying', 'definitely', 'competitive', 'advantage', 'outsource', 'things', 'table', 'something', 'need', 'really', 'going', 'stand']\n",
      "['00:18:00', 'team', 'outsource', 'competitive', 'advantage', 'think', 'logical', 'thing', 'investor', 'think', 'design', 'court', 'building', 'succeed', 'starting', 'point', 'think', 'openness', 'around', 'product', 'design', 'decision', 'value', 'warby', 'parker', 'really', 'would', 'stamp', 'anything', 'would']\n",
      "['00:18:30', 'represent', 'brand', 'company', 'scale', 'business', 'scale', 'ability', 'everything', 'consistent', 'brand', 'plane', 'design', 'consistency', 'experience', 'warby', 'parker', 'whether', 'shipment', 'glasses', 'store', 'website', 'deliver', 'visit', 'email', 'design', 'constant', 'threat', 'internal', 'operations', 'support']\n",
      "['00:19:00', 'congress', 'company', 'work', 'different', 'department', 'making', 'different', 'decision', 'product', 'manager', 'email', 'look', 'customer', 'problem', 'interest', 'outsource', 'imply', 'using', 'freelancer', 'agency', 'right', 'platform', 'freelancer', 'agency', 'designer', 'client', 'designer', 'celebrate', 'curious']\n",
      "['00:19:30', 'answer', 'agency', 'designer', 'people', 'actually', 'client', 'standing', 'stark', 'contrast', 'learn', 'actually', 'example', 'hire', 'create', 'great', 'freelancer', 'bring', 'essentially', 'house', 'extend', 'working', 'directly', 'outsource', 'going', 'agency', 'basically', 'manage', 'account', 'manager']\n",
      "['00:20:00', 'hiding', 'process', 'hiding', 'actually', 'example', 'company', 'embrace', 'particular', 'freelancer', 'something', 'extremely', 'important', 'often', 'times', 'greatest', 'greatest', 'greatest', 'talent', 'world', 'anyone', 'think', 'means', 'essentially', 'outsource', 'actually', 'partner', 'deeply', 'brand', 'company', 'agency', 'believe']\n",
      "['00:20:30', 'maybe', 'someone', 'controversial', 'message', 'coming', 'something', 'tool', 'manage', 'creative', 'talent', 'terms', 'working', 'creative', 'guess', 'going', 'company', 'design', 'competitive', 'advantage']\n",
      "['00:21:00', 'think', 'network', 'people', 'would', 'place', 'idea', 'execute', 'think', 'beyond', 'behind', 'think', 'greatest', 'innovative', 'agency', 'today', 'actually', 'building', 'roster', 'freelancer', 'relationship', 'platform', 'annex', 'company', 'jason', 'basically', 'outbound', 'sales', 'account', 'management', 'effort', 'build', 'business']\n",
      "['00:21:30', 'relationship', 'relationship', 'bringing', 'graves', 'house', 'thing', 'getting', 'creatives', 'terms', 'serving', 'conduit', 'towards', 'eventually', 'exist', 'level', 'company', 'directly', 'build', 'relationship', 'great', 'talent']\n",
      "['00:22:00', 'basically', 'client', 'middleman', 'essentially', 'relation', 'koreatown', 'company', 'brand', 'rule', 'responsibility', 'designer', 'looking', 'building', 'might', 'costing', 'influence', 'credibility', 'company', 'think', 'think']\n",
      "['00:22:30', 'talking', 'opportunity', 'designer', 'directly', 'client', 'really', 'competitive', 'advantage', 'different', 'type', 'business', 'across', 'industry', 'opportunity', 'come', 'responsibility', 'responsibility', 'means', 'become', 'better', 'manager', 'means', 'manage', 'influence', 'without', 'authority', 'entirely', 'different', 'skill', 'teach', 'stuff', 'design', 'school', 'right']\n",
      "['00:23:00', 'learn', 'experience', 'reading', 'book', 'understanding', 'attending', 'conference', 'consider', 'education', 'design', 'skill', 'management', 'skill', 'getting', 'learning', 'curve', 'think']\n",
      "['00:23:30', 'simple', 'things', 'asking', 'money', 'knowing', 'worth', 'holding', 'client', 'accountable', 'client', 'stopping', 'energy', 'recognize', 'short', 'sacrifice', 'yield', 'think', 'sort', 'parts', 'responsibility', 'quick', 'second', 'agency', 'world', 'probably']\n",
      "['00:24:00', 'bathing', 'designer', 'listening', 'snowball', 'chance', 'second', 'chance', 'agency', 'building', 'line', 'contact', 'relationship', 'freelancer', 'freelancer', 'world', 'agency', 'redeem', 'mire', 'legacy', 'agency', 'amaze', 'agency']\n",
      "['00:24:30', 'agency', 'think', 'drunk', 'participant', 'process', 'bringing', 'fruition', 'bringing', 'different', 'perspective', 'company', 'thinking', 'enough', 'brand', 'founder', 'nothing', 'design', 'green', 'agency', 'become', 'thought', 'partner', 'table', 'work', 'recommend']\n",
      "['00:25:00', 'insist', 'table', 'actual', 'talent', 'process', 'rather', 'try', 'talent', 'secret', 'present', 'business', 'contact', 'person', 'interact', 'agency', 'willing', 'attribution', 'people', 'actually', 'confident', 'enough', 'add', 'enough', 'value', 'equation', 'idea', 'process', 'improvement']\n",
      "['00:25:30', 'afraid', 'admit', 'someone', 'seem', 'crazy', 'actually', 'commonplace', 'really', 'greedy', 'agency', 'willing', 'brand', 'little', 'think', 'agency', 'antler', 'take', 'group', 'founder', 'casper', 'mattress', 'company', 'going', 'brand', 'build', 'partnership']\n",
      "['00:26:00', 'bring', 'costco', 'brand', 'people', 'think', 'would', 'happen', 'without', 'riddler', 'example', 'modern', 'agency', 'think', 'often', 'times', 'agency', 'found', 'creative', 'talent', 'really', 'thinking', 'modern', 'client', 'spoke', 'skill', 'designer', 'develop', 'manage']\n",
      "['00:26:30', 'assume', 'present', 'right', 'assume', 'designer', 'company', 'present', 'project', 'designer', 'executive', 'howell', 'designer', 'start', 'discussion', 'things', 'actually', 'focus', 'discussion', 'actually', 'person', 'attention', 'probably', 'big', 'issue', 'listen', 'makkah', 'greater', 'power', 'hours', 'discussion', 'debate']\n",
      "['00:27:00', 'meeting', 'system', 'forth', 'memo', 'distribute', 'everything', 'someone', 'designer', 'braid', 'shame', 'bring', 'suddenly', 'within', 'minutes', 'everyone', 'designer', 'assert', 'happen', 'quickly', 'sadly', 'still', 'either', 'product']\n",
      "['00:27:30', 'business', 'leader', 'someone', 'advocate', 'desire', 'voice', 'conversation', 'leading', 'rather', 'following', 'designer', 'responsibility', 'taking', 'ability', 'making', 'design', 'lead', 'structure', 'company', 'either', 'support', 'always', 'insist', 'designer', 'report', 'directly', 'everywhere']\n",
      "['00:28:00', 'cover', 'product', 'actually', 'design', 'company', 'union', 'separate', 'division', 'insist', 'series', 'designer', 'report', 'things', 'leading', 'controversial', 'rightly', 'designer', 'amaze', 'amaze', 'thailand', 'designer', 'company', 'saying', 'designer', 'better', 'product', 'businesslike', 'internal', 'agency', 'think']\n",
      "['00:28:30', 'position', 'designer', 'influence', 'assert', 'delete', 'discussion', 'try', 'solve', 'something', 'business', 'structural', 'need', 'happen', 'broadly', 'throughout', 'business', 'industry', 'business', 'designer', 'critical', 'example', 'ask', 'report', 'directly', 'structure', 'beforehand', 'report', 'anyone']\n",
      "['00:29:00', 'designer', 'report', 'company', 'right', 'company', 'person', 'lead', 'design', 'designer', 'support', 'product', 'manager', 'people', 'running', 'business', 'unit', 'designer', 'stock', 'project', 'compensation', 'performance', 'actually', 'still', 'review', 'determine', 'person', 'read', 'design', 'break', 'right', 'designer', 'critical', 'business']\n",
      "['00:29:30', 'compensate', 'person', 'running', 'business', 'product', 'sense', 'would', 'management', 'advice', 'assert', 'working', 'alongside', 'people', 'people', 'actually', 'awesome', 'culture', 'country', 'still', 'overcome', 'relationship', 'structure', 'first', 'place', 'type', 'things', 'think', 'coming']\n",
      "['00:30:00', 'coming', 'meeting', 'presentation', 'example', 'designer', 'leave', 'meeting', 'present', 'right', 'everyone', 'lock', 'happening', 'feedback', 'discussion', 'happen', 'actually', 'relevant', 'discussion', 'concept', 'designer', 'provide', 'thing', 'screen', 'drive', 'important', 'great', 'question', 'start', 'asking', 'leave']\n",
      "['00:30:30', 'conversation', 'firing', 'squad', 'begin', 'right', 'mohawk', 'concept', 'question', 'problem', 'ask', 'solve', 'reason', 'consist', 'solve', 'problem', 'following', 'problem', 'start', 'pepper', 'question', 'people', 'understand', 'people', 'start', 'things', 'bigger', 'maybe', 'agree']\n",
      "['00:31:00', 'designer', 'ask', 'people', 'rephrase', 'problem', 'think', 'still', 'exist', 'actually', 'worry', 'people', 'going', 'clear', 'actually', 'action', 'default', 'people', 'actually', 'type', 'response', 'feedback', 'getting', 'design', 'direction', 'getting', 'problem', 'still', 'exist', 'designer']\n",
      "['00:31:30', 'south', 'providence', 'audience', 'still', 'problem', 'succeed', 'first', 'apologize', 'listener', 'hear', 'noise', 'single', 'corner', 'street', 'noise', 'little', 'always', 'apologize', 'scott', 'personal', 'question', 'right', 'thanks', 'squarespace', 'supporting', 'squarespace', 'platform', 'domain', 'create', 'website', 'build', 'online', 'store', 'beautiful']\n",
      "['00:32:00', 'award', 'winning', 'designer', 'template', 'customer', 'service', 'project', 'resolution', 'squarespace', 'choose', 'sense', 'research', 'writing', 'preparation', 'reason', 'travel', 'waste', 'figuring', 'style', 'build', 'squarespace', 'check', 'template', 'brandon', 'style', 'since', 'thinking', 'starting', 'website', 'online', 'store', 'start', 'trial', 'today', 'squarespace']\n",
      "['00:32:30', 'offer', 'resolution', 'first', 'purchase', 'squarespace', 'thank', 'friend', 'envision', 'support', 'division', 'world', 'leading', 'product', 'design', 'platform', 'power', 'future', 'digital', 'design', 'understanding', 'importance', 'collaboration', 'innovative', 'company', 'world', 'facebook', 'capital', 'netflix', 'airbnb', 'remote', 'team', 'found', 'keeping', 'healthy', 'dialogue']\n",
      "['00:33:00', 'important', 'without', 'building', 'strong', 'relationship', 'hard', 'lead', 'collaboration', 'found', 'prototype', 'great', 'vision', 'design', 'help', 'forth', 'vision', 'make', 'really', 'rapidly', 'prototype', 'design', 'collaborate', 'across', 'every', 'stage', 'project', 'taking', 'idea', 'concept', 'simplify', 'virtually', 'every', 'aspect', 'design', 'workflow', 'make', 'collaboration', 'process', 'everyone', 'project', 'manager']\n",
      "['00:33:30', 'signer', 'developer', 'writer', 'team', 'build', 'digital', 'product', 'series', 'advantage', 'vision', 'suite', 'prototyping', 'collaboration', 'tool', 'everyone', 'board', 'envision', 'resolution', 'month', 'mentor', 'mentor', 'rather', 'mentor']\n",
      "['00:34:00', 'different', 'mentor', 'different', 'things', 'people', 'certain', 'times', 'pivotal', 'moment', 'think', 'dangerous', 'person', 'someone', 'mistake', 'insulate', 'introvert', 'squid', 'nature', 'always']\n",
      "['00:34:30', 'sound', 'journey', 'times', 'humble', 'force', 'somebody', 'would', 'totally', 'realize', 'reinvent', 'wheeler', 'logical', 'answer', 'visit', 'mentor', 'occasionally', 'sometimes', 'finding', 'specially', 'particular', 'answer', 'conversation', 'discussion', 'answer', 'judge']\n",
      "['00:35:00', 'unwind', 'shoes', 'someone', 'scott', 'belsky', 'quite', 'business', 'intimidation', 'factor', 'right', 'someone', 'impose', 'right', 'finding', 'mentor', 'little', 'relate']\n",
      "['00:35:30', 'kendall', 'important', 'remind', 'everyone', 'super', 'preoccupation', 'someone', 'seem', 'would', 'great', 'mentor', 'probably', 'whole', 'sweet', 'things', 'worry', 'night', 'thinking', 'whatever', 'adventure', 'come', 'relationship', 'reach', 'coffee', 'basically', 'saying', 'blindly']\n",
      "['00:36:00', 'always', 'worry', 'nobody', 'giving', 'actually', 'responsibility', 'towards', 'think', 'impact', 'often', 'times', 'talking', 'larger', 'group', 'working', 'project', 'think', 'light', 'telling', 'coffee', 'people', 'turning', 'think', 'question', 'think', 'start', 'making']\n",
      "['00:36:30', 'actually', 'mentor', 'recently', 'visit', 'visit', 'saying', 'thank', 'going', 'exactly', 'going', 'different', 'level', 'parallel', 'saying', 'giving', 'actually', 'going', 'need', 'telling', 'great']\n",
      "['00:37:00', 'people', 'people', 'reach', 'going', 'career', 'transition', 'right', 'debate', 'investor', 'operator', 'founder', 'thinking', 'actually', 'think', 'always', 'tearing', 'conversation', 'around', 'think', 'relationship', 'social', 'business', 'mutually', 'beneficial']\n",
      "['00:37:30', 'question', 'someone', 'email', 'person', 'specific', 'question', 'three', 'sentence', 'right', 'specific', 'question', 'answer', 'eliza', 'mentor', 'mentee', 'relate', 'deciding', 'question', 'would', 'thinking', 'would', 'helpful', 'great']\n",
      "['00:38:00', 'minutes', 'end', 'imminent', 'think', 'example', 'someone', 'think', 'mentor', 'really', 'need', 'asking', 'right', 'question', 'think', 'think', 'think', 'getting', 'question', 'question', 'getting', 'point', 'important', 'lesson', 'learn', 'think', 'paralyze', 'often', 'thinking', 'someone']\n",
      "['00:38:30', 'truth', 'throw', 'something', 'recognize', 'somehow', 'someway', 'labor', 'always', 'expect', 'amaze', 'people', '10,000', 'years', 'order', 'later']\n",
      "['00:39:00', 'stock', 'become', 'middle', 'manager', 'unhappy', 'right', 'opportunity', 'higher', 'overtime', 'switching', 'try', 'something', 'never', 'situation', 'someone', 'something', 'truly', 'end', 'totally', 'failure', 'always', 'lead', 'something', 'start', 'something', 'money', 'somewhere', 'chance', 'circumstantial', 'conversation']\n",
      "['00:39:30', 'house', 'lead', 'another', 'great', 'something', 'always', 'weird', 'nature', 'humanity', 'evolution', 'guess', 'towards', 'warmer', 'warmer', 'warmer', 'warmer', 'somewhere', 'means', 'try', 'advice', 'making', 'decision', 'incremental', 'toward', 'something', 'interest', 'believe', 'building', 'strength']\n",
      "['00:40:00', 'try', 'whole', 'focusing', 'area', 'answer', 'question', 'try', 'career', 'freelancer', 'entrepreneur', 'leaders', 'company', 'survive', 'messy', 'middle', 'project', 'messy', 'middle', 'things', 'endurance', 'optimization', 'volatile', 'right']\n",
      "['00:40:30', 'definitely', 'linear', 'right', 'always', 'great', 'oshit', 'really', 'execute', 'going', 'progress', 'linear', 'actually', 'volatile', 'would', 'endure', 'optimize', 'high', 'something', 'reason', 'works', 'could', 'bringing', 'people', 'drop', 'senior', 'could', 'optimize', 'working', 'often', 'product', 'working', 'working']\n",
      "['00:41:00', 'answer', 'question', 'think', 'optimize', 'little', 'things', 'working', 'strength', 'circumstantial', 'things', 'happen', 'surprise', 'little', 'things', 'getting', 'traction', 'designer', 'throw', 'stuff', 'portfolio', 'never', 'care', 'suddenly', 'project', 'viral', 'really', 'think', 'greatness', 'become', 'greater', 'start', 'optimize', 'emphasize']\n",
      "['00:41:30', 'things', 'people', 'pay', 'attention', 'working', 'naturally', 'precise', 'things', 'think', 'obsess', 'fixing', 'things', 'break', 'country', 'logic', 'always', 'things', 'break', 'fix', 'things', 'break', 'endurance', 'optimize', 'things', 'product', 'importance', 'deciding', 'going', 'badass', 'working', 'product']\n",
      "['00:42:00', 'first', 'explain', 'glass', 'think', 'designer', 'focus', 'career', 'deciding', 'willing', 'facing', 'forcible', 'everything', 'going', 'thing', 'better', 'everyone', 'right', 'individual', 'brand', 'really', 'stand', 'comparative', 'advantage', 'industry']\n",
      "['00:42:30', 'competitive', 'advantage', 'something', 'whether', 'topography', 'illustration', 'infographics', 'whether', 'airline', 'whatever', 'process', 'factor', 'distinguish', 'industry', 'cheap', 'price', 'availability', 'always', 'available', 'people']\n",
      "['00:43:00', 'someone', 'minute', 'especially', 'infographics', 'design', 'come', 'concept', 'artist', 'clever', 'always', 'little', 'thing', 'everyone', 'amino', 'engage', 'personal', 'level', 'thing', 'try', 'cheap', 'available', 'destiny', 'bassett', 'bassett']\n",
      "['00:43:30', 'access', 'right', 'know', 'price', 'going', 'expensive', 'going', 'right', 'compete', '99designs', 'something', 'going', 'quality', 'know', 'know', 'typography', 'know', 'quick', 'illustration', 'quickly', 'whatever', 'decision']\n",
      "['00:44:00', 'everything', 'market', 'affect', 'type', 'project', 'start', 'standard', 'project', 'portfolio', 'content', 'right', 'stand', 'things', 'distinguish', 'think', 'important', 'thick', 'career', 'leading', 'business', 'liable', 'every', 'opportunity', 'liable']\n",
      "['00:44:30', 'everything', 'try', 'price', 'availability', 'truth', 'really', 'sending', 'finding', 'going', 'deciding', 'beginning', 'career', 'thing', 'designer', 'teach', 'design', 'school', 'college', 'really', 'everything', 'figure', 'focus', 'attention', 'things', 'assessment']\n",
      "['00:45:00', 'career', 'figure', 'figure', 'strength', 'know', 'coming', 'optimize', 'question', 'working', 'people', 'client', 'saying', 'working', 'always', 'available', 'minute', 'things', 'people', 'saying', 'cover', 'winning', 'award', 'story', 'taking', 'moment', 'capture', 'visual', 'saying']\n",
      "['00:45:30', 'beach', 'project', 'create', 'something', 'working', 'capacity', 'rigour', 'insane', 'game', 'project', 'amaze', 'beginning', 'career', 'career', 'progress', 'decide', 'going', 'know', 'decision', 'never', 'know', 'anything', 'question', 'around', 'design', 'community', 'landscape']\n",
      "['00:46:00', 'start', 'behance', 'solving', 'problem', 'design', 'comedian', 'problem', 'attribution', 'place', 'discover', 'since', 'design', 'landscape', 'change', 'things', 'remain', 'things', 'exist', 'years', 'right', 'really', 'curious', 'start', 'today', 'would', 'would', 'try', 'solve', 'would', 'going', 'grill', 'problem', 'always', 'want', 'solve', 'hance']\n",
      "['00:46:30', 'sanity', 'hanstein', 'family', 'around', 'better', 'match', 'talent', 'opportunity', 'transcend', 'traditional', 'circumstantial', 'people', 'match', 'think', 'answer', 'certain', 'answer', 'crowdsourcing', 'think', 'hurt', 'help', 'think', 'commoditizing', 'marketplace', 'design']\n",
      "['00:47:00', 'think', 'actually', 'pricing', 'power', 'designer', 'match', 'perfect', 'opportunity', 'clear', 'perfect', 'person', 'brand', 'match', 'great', 'content', 'personal', 'rise', 'always', 'usual', 'suspect', 'trend', 'search', 'people', 'together', 'superior', 'price']\n",
      "['00:47:30', 'think', 'odesk', 'whatever', 'things', 'world', 'people', 'match', 'still', 'price', 'availability', 'quality', 'creative', 'relationship', 'client', 'brand', 'problem', 'still', 'interest', 'think', 'still', 'behind', 'adobe', 'potentially', 'company', 'running', 'short', 'leave', 'couple', 'community']\n",
      "['00:48:00', 'suture', 'rapid', 'designer', 'explain', 'design', 'people', 'business', 'think', 'designer', 'always', 'crown', 'design', 'discipline', 'problem', 'solving', 'right', 'young', 'little', 'things', 'difference', 'think', 'important', 'designer', 'client', 'internally', 'externally']\n",
      "['00:48:30', 'right', 'understand', 'solution', 'coming', 'years', 'years', 'experience', 'exposure', 'portfolio', 'look', 'critique', 'everything', 'favorite', 'story', 'whole', 'steve', 'relationship', 'negotiate', 'olive', 'immediately', 'scribble', 'thing', 'thing', 'kid', 'hanging', 'sixth', 'sixth', 'finger', 'minutes', 'music']\n",
      "['00:49:00', 'years', 'education', 'career', 'designer', 'client', 'south', 'understand', 'solution', 'coming', 'making', 'discipline', 'regard', 'problem', 'solving', 'making', 'client', 'understand', 'sometimes', 'little', 'things', 'actually', 'big', 'difference', 'helping', 'client', 'understand', 'experience', 'design', 'splash', 'product', 'things']\n",
      "['00:49:30', 'question', 'designer', 'company', 'business', 'things', 'convince', 'leadership', 'value', 'think', 'showing', 'telling', 'speak', 'volume', 'right', 'aspect', 'merchandising', 'happen', 'something', 'hold', 'argument', 'suddenly', 'bring', 'another', 'level', 'sometimes', 'actually']\n",
      "['00:50:00', 'teresa', 'debate', 'actually', 'expedite', 'decision', 'people', 'line', 'quickly', 'know', 'design', 'designer', 'success', 'attribute', 'important', 'designer', 'circumstance', 'bring', 'liter', 'tension', 'taking', 'setback', 'lucky', 'design', 'diagram', 'college', 'design', 'class', 'business']\n",
      "['00:50:30', 'focus', 'design', 'community', 'really', 'jump', 'product', 'designer', 'basically', 'background', 'leadership', 'development', 'always', 'weird', 'thing', 'always', 'taking', 'designer', 'consider', 'leaders', 'power', 'leaders', 'team', 'company', 'actually', 'believe', 'design', 'competitive', 'advantage', 'empower', 'designer', 'table']\n",
      "['00:51:00', 'structure', 'internally', 'compensate', 'internal', 'right', 'advantage', 'marketplace', 'question', 'function', 'design', 'continue', 'evolve', 'role', 'methodology', 'think', 'emerge', 'years', 'think', 'think', 'design', 'starting', 'become', 'competitive', 'advantage', 'enterprise', 'things', 'think']\n",
      "['00:51:30', 'consumer', 'product', 'focus', 'actually', 'funny', 'investor', 'landscape', 'people', 'still', 'consider', 'either', 'consumer', 'product', 'investor', 'enterprise', 'right', 'investor', 'people', 'using', 'product', 'making', 'investment', 'around', 'product', 'sensibility', 'structure', 'designer', 'power', 'difference', 'different', 'things', 'business', 'model', 'market', 'different', 'pricing', 'things', 'product']\n",
      "['00:52:00', 'bear', 'principle', 'designer', 'jazz', 'company', 'build', 'enterprise', 'tool', 'think', 'going', 'difference', 'anywhere', 'think', 'interface', 'place', 'industry', 'finally', 'become', 'competitive', 'determine', 'terms', 'answer', 'great', 'product']\n",
      "['00:52:30', 'building', 'interface', 'technology', 'build', 'another', 'product', 'building', 'interface', 'product', 'another', 'product', 'audible', 'version', 'visual', 'audio', 'interface', 'guess', 'designer', 'right', 'designer', 'interface', 'future', 'going', 'determine', 'interface', 'screen', 'audible', 'support']\n",
      "['00:53:00', 'frictionless', 'interface', 'excite', 'excite', 'designer', 'thinking', 'industry', 'problem', 'rethink', 'place', 'thank', 'scott', 'congratulations', 'thanks', 'watching', 'episode', 'really', 'really', 'like', 'please', 'leave', 'review', 'itunes', 'store', 'question', 'content', 'cover', 'guest', 'youtube']\n",
      "['00:53:30', 'twitter', 'tweet', 'leave', 'comment', 'possible', 'podcast', 'screen', 'handle', 'twitter', 'instagram', 'facebook', 'converse', 'going', 'leave', 'without', 'thinking', 'friend', 'seaworld', 'video', 'amaze', 'partner', 'entire', 'project', 'sasural', 'video', 'creative', 'studio', 'base', 'portland', 'oregon', 'help', 'creative', 'community', 'story']\n",
      "['00:54:00', 'advertisement', 'behind', 'scene', 'footage', 'documentary', 'company', 'google', 'slack', 'festival', 'adobe', 'incredible', 'travel', 'entire', 'country', 'document', 'story', 'guess', 'incredible', 'thank', 'sorrow', 'listen', 'startup', 'looking', 'elevate', 'product', 'company', 'looking', 'humanize', 'brand', 'creative', 'community', 'want', 'story', 'check']\n",
      "['00:54:30', 'charles', 'video', 'cyril', 'searle', 'check', 'friend', 'thank', 'incredible', 'project']\n"
     ]
    },
    {
     "name": "stdout",
     "output_type": "stream",
     "text": [
      "['00:00:00', 'welcome', 'resolution', 'bobby', 'gould', 'jar', 'around', 'going', 'masters', 'design', 'industry', 'going', 'learn', 'going', 'learn', 'company', 'world', 'approach', 'communicate', 'deploy', 'design', 'business', 'every', 'single', 'episode', 'experience', 'story', '00:00:30', 'discussion', 'going', 'stick', 'around', 'right', 'partner', 'message', 'thanks', 'squarespace', 'support', 'whether', 'domain', 'website', 'online', 'store', 'squarespace', 'visit', 'enter', 'resolution', 'first', 'purchase', 'thanks', 'joining', 'thing', 'clear', 'feel00:01:00', 'people', 'getting', 'better', 'would', 'still', 'design', 'steve', 'look', 'works', 'paraphrase', 'course', 'believe', 'little', 'think', 'design', 'ralph', 'thinking', 'solving', 'problem', 'design', 'simple', 'intentional', 'something', 'try', '00:01:30', 'problem', 'thinking', 'hopefully', 'maybe', 'collaborative', 'fashion', 'hear', 'fashion', 'often', 'times', 'rule', 'design', 'tool', 'really', 'something', 'almost', 'problem', 'might', 'interface', 'look', 'color', 'button', 'works', 'strategy', 'shape', 'people', 'together', '00:02:00', 'type', 'things', 'design', 'enough', 'know', 'enough', 'getting', 'interest', 'sound', 'saying', 'thing', 'design', 'things', 'outside', 'interface', 'solve', 'business', 'problem', 'design', 'team', 'using', 'process', 'things', 'process', '00:02:30', 'clear', 'people', 'title', 'designer', 'teach', 'design', 'method', 'solving', 'problem', 'mention', 'bringing', 'intentionality', 'design', 'include', 'humanistic', 'approach', 'consider', 'might', 'thinking', 'people', 'organization', 'going', '00:03:00', 'affect', 'shape', 'organization', 'look', 'either', 'bring', 'tool', 'research', 'learn', 'individual', 'understand', 'might', 'decision', 'might', 'iteration', 'designer', 'great', 'designer', 'utilize', 'iteration', 'might', 'fidelity', 'version', 'solution', 'first', 'learn', '00:03:30', 'whether', 'working', 'basically', 'leaving', 'assumption', 'table', 'speak', 'try', 'right', 'solution', 'might', 'another', 'would', 'collaboration', 'great', 'designer', 'believe', 'works', 'collaborative', 'multidisciplinary', 'every', 'answer', 'try', 'solve', 'problem', 'expert', 'problem', 'people', 'using', 'designer', 'expert', 'everything', 'bring', 'people', 'together', 'expert', '00:04:00', 'learn', 'order', 'develop', 'solution', 'things', 'designer', 'found', 'really', 'interest', 'iteration', 'understand', 'component', 'design', 'process', 'become', 'obvious', 'think', 'mother', 'superpower', 'designer', 'create', 'stuff', 'ether', 'thousand', 'times', 'really', 'quickly', '00:04:30', 'engineer', 'leisure', 'enter', 'something', 'fidelity', 'business', 'people', 'might', 'designer', 'generally', 'look', 'need', 'order', 'order', 'forward', 'would', 'explain', 'iteration', 'importance', 'iteration', 'someone', 'business', '00:05:00', 'difficult', 'somebody', 'something', 'thought', 'start', 'poking', 'wrong', 'going', 'might', 'great', 'point', 'try', 'direct', 'conversation', 'props', 'something', 'keeping', 'fidelity', 'helping', 'stage', 'working', 'towards', 'think', 'solve', '00:05:30', 'terms', 'fidelity', 'version', 'move', 'polish', 'screen', 'right', 'bell', 'whistle', 'order', 'first', 'right', 'interaction', 'model', 'right', 'desk', 'around', 'going', 'signage', 'everything', 'scenario', 'going', 'people', 'think', 'scenario', 'going', 'meeting', 'right', 'example', '00:06:00', 'think', 'speaking', 'organizational', 'design', 'years', 'airbnb', 'since', 'design', 'reshuffle', 'right', 'structure', 'however', 'together', 'going', 'happen', 'sense', 'adaptability', 'everybody', 'office', 'would', 'definitely', 'going', 'company', 'hyper', 'growth', 'start', '00:06:30', 'almost', 'years', 'people', 'experience', 'close', 'change', 'maintain', 'things', 'challenge', 'course', 'guess', 'approach', 'starting', 'knowing', 'going', 'growing', 'mission', 'anyone', 'belonging', '00:07:00', 'unless', 'scale', 'mission', 'require', 'global', 'scale', 'going', 'expand', 'abroad', 'spending', 'product', 'figure', 'things', 'principle', 'values', 'change', 'think', 'pretty', 'lucky', 'founder', 'prioritize', 'culture', 'culture', 'really', 'thing', 'airbnb', 'think', 'reason', '00:07:30', 'work', 'really', 'everybody', 'works', 'passionate', 'mission', 'excite', 'embrace', 'adventure', 'building', 'business', 'uncertainty', 'challenge', 'people', 'really', 'strong', 'skill', 'think', 'help', 'matter', 'matter', 'world', 'working', 'summit', 'somebody', 'banging', 'night', '00:08:00', 'heart', 'problem', 'trust', 'people', 'first', 'join', 'super', 'small', 'peanut', 'right', 'people', 'utilize', 'research', 'interview', 'people', 'interview', '00:08:30', 'partner', 'product', 'engine', 'understand', 'working', 'working', 'designer', 'course', 'process', 'things', 'going', 'basically', 'design', 'project', 'start', 'shape', 'opportunity', 'going', 'redesign', 'design', 'without', 'cluding', 'designer', 'product', 'manager', '00:09:00', 'workshop', 'talk', 'type', 'things', 'could', 'improve', 'problem', 'sense', 'togetherness', 'design', 'designer', 'probably', 'around', 'product', 'team', 'product', 'team', 'focus', 'different', 'area', 'product', 'right', 'designer', 'sensitive', 'working', 'island', 'engineering', 'project', 'manager', 'designer', 'sitting', 'sort', 'different', 'place', '00:09:30', 'identify', 'opportunity', 'place', 'challenge', 'designer', 'feeling', 'utilize', 'basically', 'design', 'process', 'utilize', 'nobody', 'happy', 'sound', '00:10:00', 'designer', 'intentionally', 'decision', 'making', 'process', 'miseducation', 'education', 'around', 'designer', 'actually', 'process', 'assume', 'think', 'everybody', 'fault', 'right', 'right', 'designer', 'actually', 'holding', 'bargain', 'designer', 'showing', 'table', 'earlier', 'stage', '00:10:30', 'number', 'reason', 'might', 'maybe', 'designer', 'walk', 'maybe', 'table', 'happen', 'certainly', 'understand', 'things', 'really', 'want', 'shift', 'thinking', 'could', 'better', 'shifting', 'mindset', 'folks', 'currently', 'building', 'hire', 'look', 'thought', 'skill', '00:11:00', 'visual', 'people', 'really', 'interaction', 'design', 'miss', 'facilitator', 'miss', 'people', 'whiteboard', 'marker', 'activate', 'whole', 'place', 'design', 'upfront', 'value', 'really', 'start', 'right', 'already', 'provide', 'value', 'terms', 'thing', 'working', 'conversation', 'working', 'start', 'hire', 'people', 'people', 'going', 'round', 'skill', '00:11:30', 'build', 'different', 'individual', 'people', 'different', 'level', 'seniority', 'people', 'different', 'skill', 'hard', 'become', 'revealing', 'engineering', 'manager', 'designer', 'design', 'better', 'leverage', 'inspire', 'design', 'could', 'earlier', 'stage', 'process', 'planning', 'strategy', 'conversation', 'general', 'facilitation', 'things', 'shift', 'could', 'build', 'another', '00:12:00', 'mention', 'folks', 'island', 'right', 'building', 'always', 'least', 'designer', 'pair', 'working', 'things', 'together', 'design', 'basically', 'folks', 'focus', 'design', 'product', 'experience', 'designer', 'pixel', 'experience', 'everybody', 'little', 'course', 'different', 'level', 'right', '00:13:00', 'manager', 'people', 'going', 'balance', 'skill', 'might', 'drink', 'think', 'building', 'cocktail', 'ingredient', 'think', 'skill', 'folks', 'little', 'better', 'conversation', '00:13:30', 'presentation', 'apart', 'presentation', 'folks', 'introvert', 'little', 'extroverted', 'anything', 'thinking', 'composition', 'come', 'together', 'great', 'study', 'going', 'remember', 'person', 'later', 'woman', 'study', 'chicken', 'laying', 'basically', 'chicken', 'together', 'thought', 'group', '00:14:00', 'dinosaur', 'mountain', 'remix', 'chicken', 'behold', 'super', 'group', 'chicken', 'better', 'basically', 'fight', 'whole', 'group', 'heterogeneous', 'group', 'would', 'skill', 'analogy', 'terms', 'making', 'right', '00:14:30', 'think', 'looking', 'inclusivity', 'things', 'airbnb', 'experience', 'course', 'bigger', 'digital', 'physical', 'world', 'experience', 'think', 'experience', 'system', 'think', 'world', 'physical', 'experience', 'digital', 'experience', '00:15:00', 'think', 'system', 'include', 'digital', 'physical', 'experience', 'design', 'include', 'folks', 'focus', 'include', 'folks', 'focus', 'illustration', 'animation', 'people', 'service', 'design', 'mind', 'folks', 'mixture', 'type', 'things', 'together', 'guess', 'thing', 'necessarily', 'perfectly', 'capture', 'title', '00:15:30', 'looking', 'individual', 'looking', 'somebody', 'going', 'portfolio', 'nothing', 'pixel', 'could', 'speak', 'pixel', 'looking', 'people', 'going', 'pixel', 'ramification', 'world', 'consider', 'ramification', 'really', 'something', 'transcend', 'place', 'challenge', 'things', 'airbnb', 'pixel', 'course', 'tool', '00:16:00', 'experience', 'small', 'experience', 'someone', 'probably', 'offline', 'world', 'interact', 'stranger', 'people', 'probably', 'speak', 'different', 'language', 'another', 'planet', 'imperative', 'thinking', 'things', 'looking', 'pixel', 'something', 'simple', 'words', 'choose', 'button', 'inability', 'button', 'going', 'impact', 'somebody', 'might', 'phone', '00:16:30', 'lock', 'apartment', 'night', 'giant', 'actually', 'things', 'design', 'process', 'every', 'thinking', 'terms', 'picture', 'terms', 'story', 'comic', 'strip', 'experience', 'someone', 'going', 'context', 'really', '00:17:00', 'remind', 'screen', 'things', 'course', 'research', 'getting', 'using', 'cell', 'reminder', 'inspector', 'design', 'centric', 'company', 'design', 'center', 'company', 'probably', 'leave', 'enough', 'alone', '00:17:30', 'mean', 'thinking', 'people', 'user', 'first', 'want', 'need', 'change', 'evolve', 'ahead', 'looking', 'opportunity', 'iterate', 'try', 'things', 'explore', 'better', 'think', 'think', 'airbnb', 'would', 'definitely', '00:18:00', 'lucky', 'design', 'heart', 'company', 'wonderful', 'thing', 'advantage', 'design', 'company', 'gecko', 'permit', 'within', 'culture', 'mention', 'culture', 'important', 'hire', 'designer', 'matter', 'across', 'entire', 'board', 'matter', 'winter', '00:18:30', 'certainly', 'thinking', 'values', 'design', 'thing', 'right', 'thinking', 'going', 'going', 'interact', 'every', 'thinking', 'think', 'rather', 'ambitious', 'culture', 'impact', 'world', 'mission', 'anyone', 'belong', 'anywhere', 'meaty', 'mission', 'right', '00:19:00', 'anyone', 'anywhere', 'right', 'basically', 'shifting', 'mindset', 'whole', 'planet', 'believe', 'going', 'heavy', 'think', 'design', 'septic', 'afraid', 'something', 'different', 'thanks', 'squarespace', 'supporting', 'squarespace', 'platform', 'domain', 'create', 'website', 'building', 'online', 'store', '00:19:30', 'offer', 'domain', 'certificate', 'privacy', 'seamlessly', 'connect', 'squarespace', 'website', 'online', 'store', 'everything', 'nowadays', 'domain', 'online', 'identity', 'first', 'thing', 'people', 'visit', 'help', 'build', 'credibility', 'honestly', 'make', 'professional', 'squarespace', 'offer', 'domain', 'works', 'business', 'host', 'place', 'thinking', 'getting', 'domain', 'project', 'personal', 'squarespace', '00:20:00', 'enter', 'offer', 'resolution', 'first', 'purchase', 'squarespace', 'would', 'thank', 'friend', 'envision', 'support', 'vision', 'world', 'leading', 'product', 'design', 'platform', 'power', 'future', 'digital', 'design', 'understanding', 'importance', 'collaboration', 'innovative', 'company', 'world', 'facebook', 'capital', 'airbnb', 'netflix', 'three', 'reason', 'communication', 'big', '00:20:30', 'vitalis', 'team', 'feedback', 'others', 'early', 'often', 'woods', 'everyone', 'without', 'prototype', 'others', 'vision', 'design', 'vision', 'salt', 'rapidly', 'prototype', 'front', 'design', 'process', 'collaborate', 'across', 'every', 'stage', 'project', 'simplify', 'virtually', 'every', 'aspect', 'design', 'workflow', 'make', 'collaboration', 'process', 'everyone', 'project', 'manager', 'designer', 'develop', '00:21:00', 'rider', 'team', 'build', 'digital', 'product', 'serious', 'advantage', 'vision', 'suite', 'prototyping', 'collaboration', 'tool', 'everyone', 'board', 'visit', 'envision', 'access', 'resolution', 'month', 'years', 'everybody', 'rebrand', 'beautiful', 'walk', 'coming', 'anytime', 'launching', 'something', 'especially', 'brand', 'could', '00:21:30', 'preview', 'majority', 'world', 'could', 'weather', 'going', 'receive', 'going', 'right', 'experience', 'actually', 'design', 'thing', 'paragon', 'lunch', 'whatever', 'exception', 'receive', 'rebranding', 'company', 'pretty', 'large', '00:22:00', 'people', 'worldwide', 'people', 'product', 'around', 'world', 'change', 'scary', 'excite', 'anything', 'overnight', 'anything', 'vacuum', 'think', 'help', 'confidence', 'right', 'thing', 'going', 'right', 'direction', 'design', 'process', 'terms', 'create', 'typography', 'happen', '00:22:30', 'close', 'month', 'iteration', 'house', 'community', 'process', 'feedback', 'folks', 'along', 'apply', 'product', 'bringing', 'color', 'system', 'typographer', 'system', 'really', 'essence', 'brand', 'product', 'probably', 'challenge', 'things', 'around', 'people', 'using', 'product', 'years', 'include', 'parts', 'community', 'obviously', 'could', 'share', '00:23:00', 'call', 'want', 'understand', 'thought', 'right', 'others', 'could', 'identify', 'product', 'community', 'course', 'could', 'completely', 'isolation', 'think', 'learning', 'launching', 'something', 'help', 'remove', 'surprise', 'iterate', 'talk', 'earlier', 'maybe', 'lower', 'fidelity', 'version', 'partial', 'version', '00:23:30', 'aspect', 'hypothesis', 'launching', 'something', 'blood', 'sweat', 'tears', 'reaction', 'surprise', 'scale', 'never', 'happen', 'course', 'ready', 'try', 'always', 'change', 'always', 'iterate', 'especially', 'digital', 'world', 'lucky', 'observe', 'feedback', 'think', 'could', 'designer', '00:24:00', 'heart', 'would', 'people', 'anything', 'never', 'better', 'solution', 'minimize', 'going', 'process', 'include', 'others', 'try', 'prototyping', 'experiment', 'whatever', 'confidence', 'right', 'direction', 'inform', '00:24:30', 'stick', 'finger', 'right', 'thing', 'front', 'community', 'love', 'actually', 'market', 'waiting', 'masses', 'believing', 'decision', 'process', 'design', 'process', 'course', 'years', 'later', 'amaze', 'brand', 'right', 'amaze', 'everywhere', 'friendly', 'beautiful', 'think', 'look', 'great', 'rebrands', 'congratulations', '00:25:00', 'earlier', 'mention', 'everybody', 'storyboards', 'document', 'journey', 'going', 'designing', 'right', 'outside', 'design', 'process', 'turtle', 'example', 'using', 'maybe', 'lower', 'fidelity', 'getting', 'solution', 'gain', 'demonstrate', 'direction', 'excite', 'prototype', 'understand', 'whether', 'right', 'thing', 'storytelling', 'really', '00:25:30', 'unicorn', 'product', 'development', 'process', 'problem', 'solving', 'process', 'powerful', 'something', 'every', 'individual', 'identify', 'story', 'person', 'going', 'people', 'start', 'understand', 'little', 'person', 'challenge', 'might', 'might', 'better', 'start', 'within', 'start', 'imagine', 'people', 'experience', 'really', 'help', '00:26:00', 'heart', 'strings', 'understanding', 'could', 'somewhere', 'might', 'product', 'could', 'feature', 'product', 'going', 'click', 'whatever', 'whatever', '00:26:30', 'imagine', 'something', 'different', 'going', 'everyone', 'probably', 'thinking', 'already', 'thinking', 'instead', 'anyone', 'another', 'feature', 'going', 'something', 'understand', 'story', 'maybe', 'understand', 'current', 'predicament', 'alright', 'family', 'vermont', 'weekend', '00:27:00', 'spend', 'hours', 'airbnb', 'try', 'right', 'place', 'need', 'wheelchair', 'wheelchair', 'young', 'going', 'trial', 'tribulation', 'right', 'place', 'imagine', 'feature', 'already', 'need', 'previous', 'booking', 'come', 'right', 'front', 'center', 'place', 'would', 'right', 'picture', '00:27:30', 'highlight', 'things', 'place', 'base', 'need', 'experience', 'going', 'better', 'really', 'understand', 'life', 'newark', 'jersey', 'cultivate', 'understanding', 'contact', 'people', 'sudden', 'getting', 'really', 'visceral', 'image', 'newark', 'trial', 'tribulation', 'booking', 'experience', '00:28:00', 'little', 'product', 'instead', 'feature', 'story', 'thing', 'might', 'headlight', 'break', 'feature', 'later', 'scope', 'engineering', 'later', 'first', 'human', 'would', 'understand', 'terms', 'person', 'going', 'people', 'really', 'identify', 'help', 'story', 'help', 'frame', 'frame', 'help', 'actually', 'execute', 'remind', '00:28:30', 'stage', 'need', 'leave', 'anything', 'actually', 'building', 'storytelling', 'second', 'think', 'interest', 'excite', 'things', 'airbnb', 'launch', 'recently', 'strip', 'super', 'think', 'maybe', 'first', 'conversation', 'brian', 'really', 'anyone', 'business', 'story', 'ballet', '00:29:00', 'head', 'trip', 'might', 'thing', 'interest', 'explore', 'think', 'mention', 'storyboard', 'really', 'powerful', 'thinking', 'trip', 'together', 'destroy', 'first', 'together', 'think', 'frame', 'something', 'guest', 'frame', 'comic', 'strip', 'scott', 'frame', '00:29:30', 'think', 'airbnb', 'product', 'journey', 'helping', 'realize', 'probably', 'frame', 'quite', 'offline', 'travel', 'experience', 'using', 'airbnb', 'product', 'place', 'traveling', 'friend', 'etcetera', 'actually', 'provide', '00:30:00', 'servicely', 'experience', 'airbnb', 'revealing', 'moment', 'could', 'people', 'sense', 'belonging', 'traveling', 'story', 'ignite', 'try', 'talking', 'actually', 'right', 'thing', 'everybody', 'excite', 'direction', 'actually', 'series', 'story', '00:30:30', 'might', 'tourist', 'experience', 'today', 'opposite', 'going', 'film', 'people', 'experience', 'finding', 'great', 'finding', 'moment', 'individual', 'getting', 'call', 'tourist', 'fridge', 'seeing', 'things', 'tourist', '00:31:00', 'another', 'video', 'experience', 'could', 'opposite', 'difference', 'found', 'absolutely', 'another', 'better', 'consider', 'individual', 'consider', 'local', 'night', 'tourist', 'might', 'come', 'visit', 'question', 'asking', '00:31:30', 'taurus', 'going', 'think', 'little', 'francisco', 'people', 'sense', 'belonging', 'place', 'start', 'finding', 'repeatable', 'pattern', 'imagine', 'first', 'right', 'datapoint', 'story', 'dependent', 'scenario', 'try', 'bring', 'light', 'actually', 'remarkable', 'think', 'hundred', 'different', 'people', 'telling', '00:32:00', 'order', 'quantity', 'behind', 'actually', 'usually', 'story', 'plant', 'people', 'remember', 'bobby', 'jimmy', 'sarah', 'individual', 'latch', 'story', 'sentiment', 'start', 'story', 'survey', 'online', 'analytics', 'understand', '00:32:30', 'people', 'might', 'thing', 'really', 'take', 'people', 'mind', 'image', 'story', 'going', 'circuit', 'blend', 'together', 'forget', 'design', 'working', 'company', 'never', 'process', 'try', 'apply', 'could', 'imagine', 'someone', 'watching', 'right', 'throw', 'stomach', 'throw', 'business', 'goal', 'try', 'reframe', 'story', 'presenta', 'stakeholder', 'someone', '00:33:00', 'probably', 'enough', 'contact', 'price', 'things', 'looking', 'actually', 'present', 'meeting', 'great', 'question', 'think', 'people', 'problem', 'understanding', 'people', 'world', 'context', 'business', 'quantifiable', 'behind', '00:33:30', 'supportive', 'right', 'setting', 'pitch', 'really', 'ignite', 'participate', 'throw', 'money', 'invest', 'startup', 'people', 'understand', 'something', 'people', 'going', 'understand', 'basic', 'terms', 'classic', 'reach', 'community', 'ask', 'question', '00:34:00', 'question', 'burning', 'community', 'going', 'alright', 'first', 'explain', 'design', 'people', 'business', 'people', 'minors', 'airbnb', 'explain', 'design', 'people', 'airbnb', 'company', 'event', '00:34:30', 'talkin', 'solving', 'problem', 'start', 'something', 'look', 'works', 'often', 'times', 'story', 'giving', 'example', 'design', 'something', 'poorly', 'design', 'usually', 'revealing', 'place', 'could', 'better', 'people', 'understand', 'design', '00:35:00', 'something', 'reason', 'storyboard', 'reason', 'would', 'collaborative', 'problem', 'solver', 'skilled', 'leveraging', 'tool', 'quickly', 'visualize', 'constantly', 'exercising', 'muscle', 'problem', 'solving', 'generation', 'experimentation', 'certainly', 'something', 'going', 'island', '00:35:30', 'hope', 'inform', 'people', 'design', 'problem', 'solving', 'process', 'participate', 'house', 'design', 'oregon', 'airbnb', 'currently', 'currently', 'structure', 'design', 'parts', 'experience', 'design', 'design', 'operations', 'research', 'content', 'strategy', 'parts', 'really', 'closely', 'together', 'meeting', 'together', 'together', 'everything', 'basically', 'start', 'finish', '00:36:00', 'larger', 'product', 'multi', 'disciplinary', 'collaborative', 'alongside', 'product', 'manager', 'engineer', 'scientist', 'design', 'works', 'terms', 'parts', 'basically', 'integrate', 'distribute', 'among', 'product', 'team', 'seem', 'marketplace', 'growth', 'within', 'team', 'product', 'manager', 'engineer', 'designer', 'scientist', 'researcher', '00:36:30', 'excetera', 'working', 'together', 'problem', 'hyper', 'focus', 'problem', 'goal', 'become', 'expert', 'think', 'laterally', 'design', 'interact', 'cheryl', 'learning', 'across', 'growth', 'might', 'moment', 'user', 'journey', 'connection', 'designer', 'different', 'team', 'really', 'important', 'focus', '00:37:00', 'bringing', 'design', 'together', 'entity', 'business', 'designer', 'hardly', 'design', 'designer', 'company', 'convince', 'company', 'value', 'design', 'guess', 'essentially', '00:37:30', 'elevator', 'first', 'venture', 'capital', 'essentially', 'different', 'invest', 'startup', 'design', 'receive', 'equity', 'return', 'early', 'startup', 'really', 'small', 'teens', 'people', 'engineer', 'marketing', 'person', 'great', 'understand', 'design', 'extent', 'course', 'times', 'bringing', 'designer', 'looking', 'pretty', 'thing', 'think', 'thing', 'designer', '00:38:00', 'need', 'order', 'scale', 'really', 'impact', 'pixel', 'process', 'include', 'understand', 'value', 'research', 'getting', 'talking', 'people', 'remarkable', 'company', 'start', 'storyboarding', 'journey', 'people', 'going', 'think', 'working', '00:38:30', 'almost', 'want', 'leave', 'company', 'create', 'story', 'startup', 'actually', 'think', 'journey', 'think', 'journey', 'storyboard', 'diagram', 'happiness', 'curve', 'going', 'super', 'revealing', 'right', 'might', 'whole', 'around', 'start', 'understand', 'little', '00:39:00', 'hopefully', 'value', 'importantly', 'hopefully', 'start', 'sentiment', 'design', 'talk', 'originally', 'order', 'company', 'better', 'large', 'designer', 'actually', 'define', 'measure', 'present', 'design', 'result', 'project', 'talk', 'design', 'result', 'probably', 'hyper', 'focus', 'really', 'collaborative', '00:39:30', 'result', 'going', 'balancing', 'leveraging', 'different', 'discipline', 'design', 'actually', 'works', 'really', 'close', 'scientist', 'course', 'start', 'design', 'project', 'product', 'development', 'project', 'going', 'challenge', 'today', 'start', 'impeach', 'solution', 'include', 'science', 'price', '00:40:00', 'times', 'bringing', 'great', 'idea', 'table', 'terms', 'solution', 'base', 'things', 'seeing', 'different', 'trend', 'happening', 'helping', 'shape', 'might', 'right', 'engineering', 'science', 'really', 'major', 'going', 'watch', 'something', 'launch', 'something', 'overhaul', 'product', '00:40:30', 'reason', 'difficult', 'learn', 'often', 'times', 'taking', 'result', 'dream', 'scenario', 'vision', 'create', 'breaking', 'smaller', 'piece', 'learn', 'right', 'build', 'build', 'month', 'completely', 'overhaul', 'looking', 'individual', 'staff', '00:41:00', 'seeing', 'working', 'moment', 'going', 'assess', 'whether', 'success', 'think', 'terms', 'design', 'success', 'product', 'design', 'course', 'think', 'could', 'finish', 'question', 'purpose', 'design', 'start', 'evolve', 'continue', 'evolve', 'decade', 'role', 'methodology', 'continue', 'emerge', 'years', '00:41:30', 'excite', 'certainly', 'seeing', 'greater', 'greater', 'designer', 'think', 'outside', 'pixel', 'ironic', 'everything', 'become', 'digital', 'course', 'getting', 'virtual', 'reality', 'things', 'become', 'three', 'dimensional', 'reason', 'think', 'beyond', 'screen', 'goggles', 'various', 'devices', 'machine', 'coming', 'absolutely', 'machine', 'coming', '00:42:00', 'replacing', 'things', 'humans', 'everyday', 'unlock', 'opportunity', 'humans', 'spend', 'brain', 'space', 'things', 'example', 'design', 'pool', 'getting', 'robust', 'capable', 'starting', 'bring', 'design', 'engineering', 'closer', 'together', 'create', 'prototype', 'build', 'really', 'excite', '00:42:30', 'moment', 'think', 'things', 'right', 'hopefully', 'help', 'things', 'fast', 'think', 'challenge', 'individual', 'speak', 'language', 'planet', 'coming', 'together', 'putting', 'aside', 'diocese', 'inability', 'understand', 'first', 'starting', 'point', 'actually', 'break', 'barrier', 'things', 'spending', 'thinking', 'government', '00:43:00', 'policy', 'thinking', 'inwardly', 'might', 'design', 'company', 'suppose', 'following', 'excite', 'always', 'follow', 'still', 'think', 'basis', 'think', 'definitely', '00:43:30', 'look', 'really', 'think', 'things', 'think', 'apply', 'things', 'already', 'design', 'things', 'desperate', 'thinking', 'leaving', 'enough', 'alone', 'thank', 'katie', 'skinny', 'congratulations', 'thanks', 'watching', 'episode', 'really', 'really', 'like', 'please', 'leave', 'review', 'itunes', 'store', 'question', 'content', '00:44:00', 'guess', 'youtube', 'twitter', 'tweet', 'leave', 'comment', 'possible', 'podcast', 'screen', 'handle', 'twitter', 'instagram', 'facebook', 'converse', 'going', 'leave', 'without', 'thank', 'friend', 'seaworld', 'video', 'amaze', 'partner', 'entire', 'project', 'video', 'creative', 'studio', 'base', 'portland', 'oregon', 'help', 'creative', 'community', '00:44:30', 'story', 'years', 'advertisement', 'behind', 'scene', 'footage', 'documentary', 'company', 'google', 'slack', 'festival', 'adobe', 'incredible', 'travel', 'entire', 'country', 'document', 'story', 'guess', 'incredible', 'thank', 'listen', 'startup', 'looking', 'elevate', 'product', 'company', 'looking', 'humanize', 'brand', 'somewhere', 'creative', 'community', 'want', 'story', '00:45:00', 'check', 'sterile', 'video', 'sterile', 'searle', 'check', 'friend', 'thank', 'incredible', 'project']\n"
     ]
    }
   ],
   "source": [
    "import random\n",
    "text_data = []\n",
    "with open('bigtranscript.txt') as f:\n",
    "    for line in f:\n",
    "        tokens = prepare_text_for_lda(line)\n",
    "        print(tokens)\n",
    "        text_data.append(tokens)"
   ]
  },
  {
   "cell_type": "markdown",
   "metadata": {},
   "source": [
    "* First, we are creating a dictionary from the data, then converting to a bag-of-words corpus and saving the dictionary and corpus for future use.\n",
    "* We are using Gensim for this particular task."
   ]
  },
  {
   "cell_type": "code",
   "execution_count": 46,
   "metadata": {},
   "outputs": [],
   "source": [
    "from gensim import corpora\n",
    "dictionary = corpora.Dictionary(text_data)\n"
   ]
  },
  {
   "cell_type": "code",
   "execution_count": 47,
   "metadata": {},
   "outputs": [],
   "source": [
    "corpus = [dictionary.doc2bow(text) for text in text_data]"
   ]
  },
  {
   "cell_type": "markdown",
   "metadata": {},
   "source": [
    "### At present, we are limiting number of topics per mixture to 5"
   ]
  },
  {
   "cell_type": "code",
   "execution_count": 49,
   "metadata": {},
   "outputs": [],
   "source": [
    "import gensim\n",
    "NUM_TOPICS = 5\n",
    "ldamodel = gensim.models.ldamodel.LdaModel(corpus, num_topics = NUM_TOPICS, id2word=dictionary, passes=30)\n",
    "ldamodel.save('model21.gensim')"
   ]
  },
  {
   "cell_type": "code",
   "execution_count": 50,
   "metadata": {},
   "outputs": [
    {
     "name": "stdout",
     "output_type": "stream",
     "text": [
      "(0, '0.012*\"going\" + 0.011*\"right\" + 0.010*\"something\" + 0.010*\"middle\"')\n",
      "(1, '0.024*\"design\" + 0.020*\"think\" + 0.018*\"people\" + 0.017*\"going\"')\n",
      "(2, '0.011*\"designer\" + 0.011*\"creative\" + 0.010*\"would\" + 0.010*\"interface\"')\n",
      "(3, '0.019*\"think\" + 0.019*\"things\" + 0.012*\"product\" + 0.012*\"company\"')\n",
      "(4, '0.017*\"designer\" + 0.016*\"think\" + 0.016*\"design\" + 0.013*\"people\"')\n"
     ]
    }
   ],
   "source": [
    "\n",
    "\n",
    "topics = ldamodel.print_topics(num_words=4)\n",
    "for topic in topics:\n",
    "    print(topic)\n",
    "\n"
   ]
  },
  {
   "cell_type": "code",
   "execution_count": null,
   "metadata": {},
   "outputs": [],
   "source": []
  },
  {
   "cell_type": "code",
   "execution_count": null,
   "metadata": {},
   "outputs": [],
   "source": []
  }
 ],
 "metadata": {
  "kernelspec": {
   "display_name": "Python 3",
   "language": "python",
   "name": "python3"
  },
  "language_info": {
   "codemirror_mode": {
    "name": "ipython",
    "version": 3
   },
   "file_extension": ".py",
   "mimetype": "text/x-python",
   "name": "python",
   "nbconvert_exporter": "python",
   "pygments_lexer": "ipython3",
   "version": "3.5.2"
  }
 },
 "nbformat": 4,
 "nbformat_minor": 2
}
